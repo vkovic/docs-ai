{
 "cells": [
  {
   "metadata": {},
   "cell_type": "code",
   "outputs": [],
   "execution_count": null,
   "source": [
    "# def run_sql_command():\n",
    "#     session = SessionFactory()\n",
    "#     try:\n",
    "#         session.execute(text('CREATE EXTENSION IF NOT EXISTS vector'))\n",
    "#         session.commit()\n",
    "#     finally:\n",
    "#         session.close()"
   ],
   "id": "210c90ac585103b3"
  },
  {
   "metadata": {
    "ExecuteTime": {
     "end_time": "2024-11-19T23:17:12.327046Z",
     "start_time": "2024-11-19T23:17:12.322951Z"
    }
   },
   "cell_type": "code",
   "source": [
    "# Open a connection to the database\n",
    "\n",
    "from sqlalchemy import create_engine\n",
    "from sqlalchemy.orm import sessionmaker\n",
    "\n",
    "DATABASE_URL = \"postgresql+psycopg2://user:password@db/vectordb\"\n",
    "\n",
    "engine = create_engine(DATABASE_URL)\n",
    "SessionFactory = sessionmaker(autocommit=False, autoflush=False, bind=engine)\n",
    "\n",
    "session = SessionFactory()"
   ],
   "id": "6c9c845c8f475a30",
   "outputs": [],
   "execution_count": 15
  },
  {
   "metadata": {
    "ExecuteTime": {
     "end_time": "2024-11-19T23:17:14.657417Z",
     "start_time": "2024-11-19T23:17:14.648151Z"
    }
   },
   "cell_type": "code",
   "source": [
    "# Create a table with a vector column\n",
    "\n",
    "from sqlalchemy import Integer, String\n",
    "from sqlalchemy.orm import mapped_column, declarative_base\n",
    "from pgvector.sqlalchemy import Vector\n",
    "\n",
    "Base = declarative_base()\n",
    "\n",
    "class Item(Base):\n",
    "    __tablename__ = 'embeddings'\n",
    "    id = mapped_column(Integer, primary_key=True)\n",
    "    embedding = mapped_column(Vector(768))\n",
    "    text = mapped_column(String)"
   ],
   "id": "77180837e17d8842",
   "outputs": [],
   "execution_count": 16
  },
  {
   "metadata": {
    "collapsed": true
   },
   "cell_type": "code",
   "outputs": [],
   "execution_count": null,
   "source": [
    "from ollama import Client\n",
    "\n",
    "client = Client(host='ollama:11434')\n",
    "\n",
    "message = [{\n",
    "    'role': 'user',\n",
    "    'content': 'Hello'\n",
    "}]\n",
    "\n",
    "response = client.chat(model='llama3.2', messages=message)"
   ],
   "id": "initial_id"
  },
  {
   "metadata": {
    "ExecuteTime": {
     "end_time": "2024-11-19T23:17:31.575064Z",
     "start_time": "2024-11-19T23:17:30.917511Z"
    }
   },
   "cell_type": "code",
   "source": [
    "from ollama import Client\n",
    "client = Client(host='ollama:11434')\n",
    "\n",
    "text_to_emb = 'Hello, how are you?'\n",
    "vector = client.embeddings(model='nomic-embed-text', prompt=text_to_emb)\n",
    "\n",
    "emb = vector['embedding']"
   ],
   "id": "d93887c6cdaaf15b",
   "outputs": [],
   "execution_count": 17
  },
  {
   "metadata": {
    "ExecuteTime": {
     "end_time": "2024-11-19T23:17:35.730127Z",
     "start_time": "2024-11-19T23:17:35.712364Z"
    }
   },
   "cell_type": "code",
   "source": [
    "item = Item(embedding=emb, text=text_to_emb)\n",
    "session.add(item)\n",
    "session.commit()"
   ],
   "id": "1abe513fcf08d420",
   "outputs": [],
   "execution_count": 18
  }
 ],
 "metadata": {
  "kernelspec": {
   "display_name": "Python 3",
   "language": "python",
   "name": "python3"
  },
  "language_info": {
   "codemirror_mode": {
    "name": "ipython",
    "version": 2
   },
   "file_extension": ".py",
   "mimetype": "text/x-python",
   "name": "python",
   "nbconvert_exporter": "python",
   "pygments_lexer": "ipython2",
   "version": "2.7.6"
  }
 },
 "nbformat": 4,
 "nbformat_minor": 5
}
