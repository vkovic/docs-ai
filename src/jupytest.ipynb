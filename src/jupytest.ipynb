{
 "cells": [
  {
   "cell_type": "code",
   "id": "initial_id",
   "metadata": {
    "collapsed": true,
    "ExecuteTime": {
     "end_time": "2024-11-06T18:52:19.713213Z",
     "start_time": "2024-11-06T18:52:16.125646Z"
    }
   },
   "source": [
    "from ollama import Client\n",
    "client = Client(host='ollama:11434')\n",
    "\n",
    "message = [{\n",
    "    'role': 'user',\n",
    "    'content': 'Hello'\n",
    "}]\n",
    "\n",
    "response = client.chat(model='llama3.2', messages=message)\n",
    "\n",
    "print(response)\n"
   ],
   "outputs": [
    {
     "name": "stdout",
     "output_type": "stream",
     "text": [
      "{'model': 'llama3.2', 'created_at': '2024-11-06T18:52:19.707674633Z', 'message': {'role': 'assistant', 'content': 'How can I assist you today?'}, 'done_reason': 'stop', 'done': True, 'total_duration': 3559042793, 'load_duration': 2581722167, 'prompt_eval_count': 26, 'prompt_eval_duration': 662627000, 'eval_count': 8, 'eval_duration': 311842000}\n"
     ]
    }
   ],
   "execution_count": 3
  },
  {
   "metadata": {
    "jupyter": {
     "is_executing": true
    }
   },
   "cell_type": "code",
   "source": "print('Hello')",
   "id": "3edd2cd2af38bb4c",
   "outputs": [],
   "execution_count": null
  },
  {
   "metadata": {},
   "cell_type": "markdown",
   "source": "",
   "id": "23b438fcb0efae57"
  },
  {
   "metadata": {},
   "cell_type": "markdown",
   "source": "",
   "id": "b74651318a4d6289"
  }
 ],
 "metadata": {
  "kernelspec": {
   "display_name": "Python 3",
   "language": "python",
   "name": "python3"
  },
  "language_info": {
   "codemirror_mode": {
    "name": "ipython",
    "version": 2
   },
   "file_extension": ".py",
   "mimetype": "text/x-python",
   "name": "python",
   "nbconvert_exporter": "python",
   "pygments_lexer": "ipython2",
   "version": "2.7.6"
  }
 },
 "nbformat": 4,
 "nbformat_minor": 5
}
