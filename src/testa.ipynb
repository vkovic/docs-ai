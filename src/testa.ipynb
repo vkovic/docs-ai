{
 "cells": [
  {
   "cell_type": "code",
   "id": "initial_id",
   "metadata": {
    "collapsed": true,
    "ExecuteTime": {
     "end_time": "2024-11-06T23:55:50.832273Z",
     "start_time": "2024-11-06T23:55:50.812008Z"
    }
   },
   "source": [
    "from sqlalchemy import create_engine, text, Integer\n",
    "from sqlalchemy.orm import sessionmaker, mapped_column, declarative_base\n",
    "from pgvector.sqlalchemy import Vector\n",
    "\n",
    "Base = declarative_base()\n",
    "\n",
    "DATABASE_URL = \"postgresql+psycopg2://user:password@db/vectordb\"\n",
    "\n",
    "engine = create_engine(DATABASE_URL)\n",
    "SessionFactory = sessionmaker(autocommit=False, autoflush=False, bind=engine)\n",
    "\n",
    "def run_sql_command():\n",
    "    session = SessionFactory()\n",
    "    try:\n",
    "        session.execute(text('CREATE EXTENSION IF NOT EXISTS vector'))\n",
    "        session.commit()\n",
    "    finally:\n",
    "        session.close()\n",
    "\n",
    "class Item(Base):\n",
    "    __tablename__ = 'embeddings'\n",
    "    id = mapped_column(Integer, primary_key=True)\n",
    "    embedding = mapped_column(Vector(3))\n",
    "    \n",
    "session = SessionFactory()\n",
    "item = Item(embedding=[1, 2, 3])\n",
    "print(session.add(item))\n",
    "print(session.commit())"
   ],
   "outputs": [
    {
     "name": "stdout",
     "output_type": "stream",
     "text": [
      "None\n",
      "None\n"
     ]
    }
   ],
   "execution_count": 11
  },
  {
   "metadata": {},
   "cell_type": "markdown",
   "source": "",
   "id": "5e6c752b337ad284"
  },
  {
   "metadata": {},
   "cell_type": "code",
   "outputs": [],
   "execution_count": null,
   "source": "",
   "id": "e6de33a082a41c92"
  },
  {
   "metadata": {},
   "cell_type": "code",
   "outputs": [],
   "execution_count": null,
   "source": "",
   "id": "6739da462fedb312"
  },
  {
   "metadata": {},
   "cell_type": "code",
   "outputs": [],
   "execution_count": null,
   "source": "",
   "id": "daa79f790bb230b8"
  }
 ],
 "metadata": {
  "kernelspec": {
   "display_name": "Python 3",
   "language": "python",
   "name": "python3"
  },
  "language_info": {
   "codemirror_mode": {
    "name": "ipython",
    "version": 2
   },
   "file_extension": ".py",
   "mimetype": "text/x-python",
   "name": "python",
   "nbconvert_exporter": "python",
   "pygments_lexer": "ipython2",
   "version": "2.7.6"
  }
 },
 "nbformat": 4,
 "nbformat_minor": 5
}
