{
 "cells": [
  {
   "cell_type": "code",
   "id": "initial_id",
   "metadata": {
    "collapsed": true,
    "ExecuteTime": {
     "end_time": "2024-11-24T22:20:12.671911Z",
     "start_time": "2024-11-24T22:20:09.364316Z"
    }
   },
   "source": [
    "from ollama import Client\n",
    "\n",
    "client = Client(host='ollama:11434')\n",
    "\n",
    "message = [{\n",
    "    'role': 'user',\n",
    "    'content': 'Hello'\n",
    "}]\n",
    "\n",
    "response = client.chat(model='llama3.2', messages=message)\n",
    "\n",
    "print(response)"
   ],
   "outputs": [
    {
     "name": "stdout",
     "output_type": "stream",
     "text": [
      "{'model': 'llama3.2', 'created_at': '2024-11-24T22:20:12.669173334Z', 'message': {'role': 'assistant', 'content': 'How can I assist you today?'}, 'done_reason': 'stop', 'done': True, 'total_duration': 3224232459, 'load_duration': 2315591500, 'prompt_eval_count': 26, 'prompt_eval_duration': 634556000, 'eval_count': 8, 'eval_duration': 272830000}\n"
     ]
    }
   ],
   "execution_count": 1
  },
  {
   "metadata": {},
   "cell_type": "code",
   "outputs": [],
   "execution_count": null,
   "source": "",
   "id": "ab7d2209f2a94645"
  },
  {
   "metadata": {},
   "cell_type": "code",
   "outputs": [],
   "execution_count": null,
   "source": [
    "query_vector = list(query_vector)\n",
    "\n",
    "results = session.query()"
   ],
   "id": "601135f88570c965"
  }
 ],
 "metadata": {
  "kernelspec": {
   "display_name": "Python 3",
   "language": "python",
   "name": "python3"
  },
  "language_info": {
   "codemirror_mode": {
    "name": "ipython",
    "version": 2
   },
   "file_extension": ".py",
   "mimetype": "text/x-python",
   "name": "python",
   "nbconvert_exporter": "python",
   "pygments_lexer": "ipython2",
   "version": "2.7.6"
  }
 },
 "nbformat": 4,
 "nbformat_minor": 5
}
