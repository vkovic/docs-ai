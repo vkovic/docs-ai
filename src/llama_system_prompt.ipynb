{
 "cells": [
  {
   "cell_type": "code",
   "id": "initial_id",
   "metadata": {
    "collapsed": true,
    "ExecuteTime": {
     "end_time": "2024-11-25T22:33:27.925022Z",
     "start_time": "2024-11-25T22:33:12.946687Z"
    }
   },
   "source": [
    "# How to prompt llama - aka `system` prompt\n",
    "# https://huggingface.co/blog/llama2#how-to-prompt-llama-2\n",
    "\n",
    "from ollama import Client\n",
    "\n",
    "client = Client(host='ollama:11434')\n",
    "\n",
    "user_input = \"\"\"\n",
    "<s>[INST] <<SYS>>\n",
    "You are a helpful, respectful and honest assistant. Always answer as helpfully as possible, while being safe.  Your answers should not include any harmful, unethical, racist, sexist, toxic, dangerous, or illegal content. Please ensure that your responses are socially unbiased and positive in nature.\n",
    "\n",
    "If a question does not make any sense, or is not factually coherent, explain why instead of answering something not correct. If you don't know the answer to a question, please don't share false information.\n",
    "<</SYS>>\n",
    "\n",
    "There's a llama in my garden 😱 What should I do? [/INST]\n",
    "\"\"\"\n",
    "\n",
    "message = [{\n",
    "    'role': 'user',\n",
    "    'content': user_input\n",
    "}]\n",
    "\n",
    "response = client.chat(model='llama3.2', messages=message)\n",
    "\n",
    "print(response['message'])"
   ],
   "outputs": [
    {
     "name": "stdout",
     "output_type": "stream",
     "text": [
      "{'role': 'assistant', 'content': \"That sounds like an unexpected visitor! 😂 Don't worry, I'm here to help.\\n\\nFirst and foremost, please make sure that the llama is not causing any harm or threatening you or anyone else. If it appears agitated, aggressive, or if you're unsure about its behavior, it's best to keep a safe distance and seek advice from local animal control or a professional.\\n\\nAssuming the llama seems calm and doesn't appear to be causing any issues, here are some steps you can take:\\n\\n1. **Observe from a safe distance**: Try to determine how the llama ended up in your garden. Is it a escaped pet? Did it wander into your yard?\\n2. **Contact local animal control or a professional**: Reach out to local animal control services or a nearby wildlife rehabilitation center for guidance on what to do next. They can provide advice on safely capturing and relocating the llama.\\n3. **Provide food and water (if necessary)**: If the llama appears hungry or thirsty, you can offer it some food and water, but only if instructed to do so by local animal control or a professional.\\n4. **Consider fencing your garden**: To prevent future visits from unwanted furry friends, consider installing a fence around your garden.\\n\\nRemember to prioritize both your safety and the well-being of the llama. It's possible that this is a one-time situation, but it's always better to err on the side of caution!\\n\\nWould you like more specific advice or guidance on how to proceed?\"}\n"
     ]
    }
   ],
   "execution_count": 2
  },
  {
   "metadata": {},
   "cell_type": "code",
   "outputs": [],
   "execution_count": null,
   "source": "",
   "id": "2482151bccc8503"
  }
 ],
 "metadata": {
  "kernelspec": {
   "display_name": "Python 3",
   "language": "python",
   "name": "python3"
  },
  "language_info": {
   "codemirror_mode": {
    "name": "ipython",
    "version": 2
   },
   "file_extension": ".py",
   "mimetype": "text/x-python",
   "name": "python",
   "nbconvert_exporter": "python",
   "pygments_lexer": "ipython2",
   "version": "2.7.6"
  }
 },
 "nbformat": 4,
 "nbformat_minor": 5
}
