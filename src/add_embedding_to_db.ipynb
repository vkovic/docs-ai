{
 "cells": [
  {
   "metadata": {},
   "cell_type": "code",
   "outputs": [],
   "execution_count": null,
   "source": [
    "# def run_sql_command():\n",
    "#     session = SessionFactory()\n",
    "#     try:\n",
    "#         session.execute(text('CREATE EXTENSION IF NOT EXISTS vector'))\n",
    "#         session.commit()\n",
    "#     finally:\n",
    "#         session.close()"
   ],
   "id": "210c90ac585103b3"
  },
  {
   "metadata": {
    "ExecuteTime": {
     "end_time": "2024-11-19T23:17:12.327046Z",
     "start_time": "2024-11-19T23:17:12.322951Z"
    }
   },
   "cell_type": "code",
   "source": [
    "# Open a connection to the database\n",
    "\n",
    "from sqlalchemy import create_engine\n",
    "from sqlalchemy.orm import sessionmaker\n",
    "\n",
    "DATABASE_URL = \"postgresql+psycopg2://user:password@db/vectordb\"\n",
    "\n",
    "engine = create_engine(DATABASE_URL)\n",
    "SessionFactory = sessionmaker(autocommit=False, autoflush=False, bind=engine)\n",
    "\n",
    "session = SessionFactory()"
   ],
   "id": "6c9c845c8f475a30",
   "outputs": [],
   "execution_count": 15
  },
  {
   "metadata": {
    "ExecuteTime": {
     "end_time": "2024-11-19T23:17:14.657417Z",
     "start_time": "2024-11-19T23:17:14.648151Z"
    }
   },
   "cell_type": "code",
   "source": [
    "# Create a table with a vector column\n",
    "\n",
    "from sqlalchemy import Integer, String\n",
    "from sqlalchemy.orm import mapped_column, declarative_base\n",
    "from pgvector.sqlalchemy import Vector\n",
    "\n",
    "Base = declarative_base()\n",
    "\n",
    "class Item(Base):\n",
    "    __tablename__ = 'embeddings'\n",
    "    id = mapped_column(Integer, primary_key=True)\n",
    "    embedding = mapped_column(Vector(768))\n",
    "    text = mapped_column(String)"
   ],
   "id": "77180837e17d8842",
   "outputs": [],
   "execution_count": 16
  },
  {
   "metadata": {
    "ExecuteTime": {
     "end_time": "2024-11-20T00:06:14.007587Z",
     "start_time": "2024-11-20T00:06:12.533485Z"
    }
   },
   "cell_type": "code",
   "source": [
    "from ollama import Client\n",
    "client = Client(host='ollama:11434')\n",
    "\n",
    "documentation = [\n",
    "    {\n",
    "        \"title\": \"API Documentation - User Service\",\n",
    "        \"content\": \"The User Service API allows CRUD operations on user data. The base URL is '/api/users'. GET /api/users retrieves all users. POST /api/users creates a new user.\"\n",
    "    },\n",
    "    {\n",
    "        \"title\": \"Architecture Guidelines - Microservices\",\n",
    "        \"content\": \"Our architecture is based on microservices. Each service is independent and communicates with others via REST APIs. Services are deployed in Docker containers and managed via Kubernetes.\"\n",
    "    },\n",
    "    {\n",
    "        \"title\": \"Code Standards\",\n",
    "        \"content\": \"Our codebase follows PSR-12 for PHP code. All PHP classes should have docblocks, and methods should be named in camelCase. JavaScript follows the Airbnb style guide.\"\n",
    "    },\n",
    "    {\n",
    "        \"title\": \"CI/CD Pipeline\",\n",
    "        \"content\": \"We use GitLab CI for continuous integration and deployment. The pipeline includes stages for linting, testing, building, and deployment. Automated tests are required before deployment.\"\n",
    "    }\n",
    "]\n",
    "\n",
    "emb_data = []\n",
    "for doc in documentation:\n",
    "    vector = client.embeddings(model='nomic-embed-text', prompt=doc['content'])\n",
    "    embedding = vector['embedding']\n",
    "    content = doc['content']\n",
    "    emb_data.append((embedding, content))"
   ],
   "id": "d93887c6cdaaf15b",
   "outputs": [],
   "execution_count": 43
  },
  {
   "metadata": {
    "ExecuteTime": {
     "end_time": "2024-11-20T00:06:17.921716Z",
     "start_time": "2024-11-20T00:06:17.907775Z"
    }
   },
   "cell_type": "code",
   "source": [
    "for embedding, content in emb_data:\n",
    "    item = Item(embedding=embedding, text=content)\n",
    "    session.add(item)\n",
    "    \n",
    "session.commit()\n",
    "session.close()"
   ],
   "id": "1abe513fcf08d420",
   "outputs": [],
   "execution_count": 44
  },
  {
   "metadata": {},
   "cell_type": "code",
   "outputs": [],
   "execution_count": null,
   "source": "",
   "id": "cdf835c58f420fad"
  }
 ],
 "metadata": {
  "kernelspec": {
   "display_name": "Python 3",
   "language": "python",
   "name": "python3"
  },
  "language_info": {
   "codemirror_mode": {
    "name": "ipython",
    "version": 2
   },
   "file_extension": ".py",
   "mimetype": "text/x-python",
   "name": "python",
   "nbconvert_exporter": "python",
   "pygments_lexer": "ipython2",
   "version": "2.7.6"
  }
 },
 "nbformat": 4,
 "nbformat_minor": 5
}
