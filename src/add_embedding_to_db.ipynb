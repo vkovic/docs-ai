{
 "cells": [
  {
   "metadata": {},
   "cell_type": "code",
   "outputs": [],
   "execution_count": null,
   "source": [
    "# def run_sql_command():\n",
    "#     session = SessionFactory()\n",
    "#     try:\n",
    "#         session.execute(text('CREATE EXTENSION IF NOT EXISTS vector'))\n",
    "#         session.commit()\n",
    "#     finally:\n",
    "#         session.close()"
   ],
   "id": "210c90ac585103b3"
  },
  {
   "metadata": {
    "ExecuteTime": {
     "end_time": "2024-11-20T17:41:36.954787Z",
     "start_time": "2024-11-20T17:41:36.835635Z"
    }
   },
   "cell_type": "code",
   "source": [
    "# Open a connection to the database\n",
    "\n",
    "from sqlalchemy import create_engine\n",
    "from sqlalchemy.orm import sessionmaker\n",
    "\n",
    "DATABASE_URL = \"postgresql+psycopg2://user:password@db/vectordb\"\n",
    "\n",
    "engine = create_engine(DATABASE_URL)\n",
    "SessionFactory = sessionmaker(autocommit=False, autoflush=False, bind=engine)\n",
    "\n",
    "session = SessionFactory()"
   ],
   "id": "6c9c845c8f475a30",
   "outputs": [],
   "execution_count": 1
  },
  {
   "metadata": {
    "ExecuteTime": {
     "end_time": "2024-11-20T17:41:59.286581Z",
     "start_time": "2024-11-20T17:41:59.233274Z"
    }
   },
   "cell_type": "code",
   "source": [
    "# Create a table with a vector column\n",
    "\n",
    "from sqlalchemy import Integer, String\n",
    "from sqlalchemy.orm import mapped_column, declarative_base\n",
    "from pgvector.sqlalchemy import Vector\n",
    "\n",
    "Base = declarative_base()\n",
    "\n",
    "class Item(Base):\n",
    "    __tablename__ = 'embeddings'\n",
    "    id = mapped_column(Integer, primary_key=True)\n",
    "    embedding = mapped_column(Vector(768))\n",
    "    text = mapped_column(String)"
   ],
   "id": "77180837e17d8842",
   "outputs": [],
   "execution_count": 2
  },
  {
   "metadata": {
    "ExecuteTime": {
     "end_time": "2024-11-20T17:42:05.778726Z",
     "start_time": "2024-11-20T17:42:04.076830Z"
    }
   },
   "cell_type": "code",
   "source": [
    "# Create example documents for embedding\n",
    "\n",
    "from ollama import Client\n",
    "\n",
    "client = Client(host='ollama:11434')\n",
    "\n",
    "documentation = [\n",
    "    {\n",
    "        \"title\": \"API Documentation - User Service\",\n",
    "        \"content\": \"The User Service API allows CRUD operations on user data. The base URL is '/api/users'. GET /api/users retrieves all users. POST /api/users creates a new user.\"\n",
    "    },\n",
    "    {\n",
    "        \"title\": \"Architecture Guidelines - Microservices\",\n",
    "        \"content\": \"Our architecture is based on microservices. Each service is independent and communicates with others via REST APIs. Services are deployed in Docker containers and managed via Kubernetes.\"\n",
    "    },\n",
    "    {\n",
    "        \"title\": \"Code Standards\",\n",
    "        \"content\": \"Our codebase follows PSR-12 for PHP code. All PHP classes should have docblocks, and methods should be named in camelCase. JavaScript follows the Airbnb style guide.\"\n",
    "    },\n",
    "    {\n",
    "        \"title\": \"CI/CD Pipeline\",\n",
    "        \"content\": \"We use GitLab CI for continuous integration and deployment. The pipeline includes stages for linting, testing, building, and deployment. Automated tests are required before deployment.\"\n",
    "    }\n",
    "]\n",
    "\n",
    "emb_data = []\n",
    "for doc in documentation:\n",
    "    vector = client.embeddings(model='nomic-embed-text', prompt=doc['content'])\n",
    "    embedding = vector['embedding']\n",
    "    content = doc['content']\n",
    "    emb_data.append((embedding, content))"
   ],
   "id": "d93887c6cdaaf15b",
   "outputs": [],
   "execution_count": 3
  },
  {
   "metadata": {
    "ExecuteTime": {
     "end_time": "2024-11-20T17:42:12.115704Z",
     "start_time": "2024-11-20T17:42:12.094004Z"
    }
   },
   "cell_type": "code",
   "source": [
    "# Write vector data into the database\n",
    "\n",
    "for embedding, content in emb_data:\n",
    "    item = Item(embedding=embedding, text=content)\n",
    "    session.add(item)\n",
    "    \n",
    "session.commit()\n",
    "session.close()"
   ],
   "id": "1abe513fcf08d420",
   "outputs": [],
   "execution_count": 4
  },
  {
   "metadata": {},
   "cell_type": "code",
   "source": [
    "# Create a question (embeddings)\n",
    "\n",
    "question = \"How do we deploy services in our architecture?\"\n",
    "question_vector = client.embeddings(model='nomic-embed-text', prompt=question)['embedding']"
   ],
   "id": "cdf835c58f420fad",
   "outputs": [],
   "execution_count": null
  },
  {
   "metadata": {
    "ExecuteTime": {
     "end_time": "2024-11-20T17:58:48.771194Z",
     "start_time": "2024-11-20T17:58:48.763067Z"
    }
   },
   "cell_type": "code",
   "source": [
    "# Query the database for similar documents\n",
    "\n",
    "query_vector = list(question_vector)\n",
    "\n",
    "results = (\n",
    "    session.query(Item, (Item.embedding.l2_distance(query_vector))\n",
    "    .label('distance'))\n",
    "    .order_by('distance').limit(3).all()\n",
    ")\n",
    "\n",
    "for item, distance in results:\n",
    "    print(item.text, distance)"
   ],
   "id": "d6931517756aa06a",
   "outputs": [
    {
     "name": "stdout",
     "output_type": "stream",
     "text": [
      "Our architecture is based on microservices. Each service is independent and communicates with others via REST APIs. Services are deployed in Docker containers and managed via Kubernetes. 14.982467577698838\n",
      "We use GitLab CI for continuous integration and deployment. The pipeline includes stages for linting, testing, building, and deployment. Automated tests are required before deployment. 18.77922933311437\n",
      "The User Service API allows CRUD operations on user data. The base URL is '/api/users'. GET /api/users retrieves all users. POST /api/users creates a new user. 20.28272983694926\n"
     ]
    }
   ],
   "execution_count": 10
  },
  {
   "metadata": {},
   "cell_type": "code",
   "outputs": [],
   "execution_count": null,
   "source": "",
   "id": "7f0ab9400fe32fde"
  }
 ],
 "metadata": {
  "kernelspec": {
   "display_name": "Python 3",
   "language": "python",
   "name": "python3"
  },
  "language_info": {
   "codemirror_mode": {
    "name": "ipython",
    "version": 2
   },
   "file_extension": ".py",
   "mimetype": "text/x-python",
   "name": "python",
   "nbconvert_exporter": "python",
   "pygments_lexer": "ipython2",
   "version": "2.7.6"
  }
 },
 "nbformat": 4,
 "nbformat_minor": 5
}
